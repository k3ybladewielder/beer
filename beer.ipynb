{
 "cells": [
  {
   "cell_type": "markdown",
   "metadata": {},
   "source": [
    "# Beer Production Forecast"
   ]
  },
  {
   "cell_type": "markdown",
   "metadata": {},
   "source": [
    "[descricao]"
   ]
  },
  {
   "cell_type": "markdown",
   "metadata": {},
   "source": [
    "## imports"
   ]
  },
  {
   "cell_type": "code",
   "execution_count": 51,
   "metadata": {
    "ExecuteTime": {
     "end_time": "2021-11-14T18:56:04.543902Z",
     "start_time": "2021-11-14T18:56:04.535317Z"
    }
   },
   "outputs": [],
   "source": [
    "import pandas as pd\n",
    "import numpy as np\n",
    "\n",
    "from matplotlib import pyplot as plt\n",
    "import seaborn as sns\n",
    "import plotly.express as plx\n",
    "\n",
    "from pmdarima import auto_arima\n",
    "from statsmodels.tsa.arima.model import ARIMA"
   ]
  },
  {
   "cell_type": "code",
   "execution_count": 52,
   "metadata": {
    "ExecuteTime": {
     "end_time": "2021-11-14T18:56:04.713317Z",
     "start_time": "2021-11-14T18:56:04.551071Z"
    }
   },
   "outputs": [],
   "source": [
    "db = pd.read_csv('./datasets/monthly-beer-production-in-austr.csv', parse_dates=True) #, index_col='Month'"
   ]
  },
  {
   "cell_type": "markdown",
   "metadata": {},
   "source": [
    "## eda"
   ]
  },
  {
   "cell_type": "code",
   "execution_count": 53,
   "metadata": {
    "ExecuteTime": {
     "end_time": "2021-11-14T18:56:04.867603Z",
     "start_time": "2021-11-14T18:56:04.852000Z"
    }
   },
   "outputs": [
    {
     "data": {
      "text/html": [
       "<div>\n",
       "<style scoped>\n",
       "    .dataframe tbody tr th:only-of-type {\n",
       "        vertical-align: middle;\n",
       "    }\n",
       "\n",
       "    .dataframe tbody tr th {\n",
       "        vertical-align: top;\n",
       "    }\n",
       "\n",
       "    .dataframe thead th {\n",
       "        text-align: right;\n",
       "    }\n",
       "</style>\n",
       "<table border=\"1\" class=\"dataframe\">\n",
       "  <thead>\n",
       "    <tr style=\"text-align: right;\">\n",
       "      <th></th>\n",
       "      <th>Month</th>\n",
       "      <th>Monthly beer production</th>\n",
       "    </tr>\n",
       "  </thead>\n",
       "  <tbody>\n",
       "    <tr>\n",
       "      <th>0</th>\n",
       "      <td>1956-01</td>\n",
       "      <td>93.2</td>\n",
       "    </tr>\n",
       "    <tr>\n",
       "      <th>1</th>\n",
       "      <td>1956-02</td>\n",
       "      <td>96.0</td>\n",
       "    </tr>\n",
       "    <tr>\n",
       "      <th>2</th>\n",
       "      <td>1956-03</td>\n",
       "      <td>95.2</td>\n",
       "    </tr>\n",
       "    <tr>\n",
       "      <th>3</th>\n",
       "      <td>1956-04</td>\n",
       "      <td>77.1</td>\n",
       "    </tr>\n",
       "    <tr>\n",
       "      <th>4</th>\n",
       "      <td>1956-05</td>\n",
       "      <td>70.9</td>\n",
       "    </tr>\n",
       "  </tbody>\n",
       "</table>\n",
       "</div>"
      ],
      "text/plain": [
       "     Month  Monthly beer production\n",
       "0  1956-01                     93.2\n",
       "1  1956-02                     96.0\n",
       "2  1956-03                     95.2\n",
       "3  1956-04                     77.1\n",
       "4  1956-05                     70.9"
      ]
     },
     "execution_count": 53,
     "metadata": {},
     "output_type": "execute_result"
    }
   ],
   "source": [
    "db.head()"
   ]
  },
  {
   "cell_type": "code",
   "execution_count": 54,
   "metadata": {
    "ExecuteTime": {
     "end_time": "2021-11-14T18:56:04.955110Z",
     "start_time": "2021-11-14T18:56:04.870938Z"
    }
   },
   "outputs": [],
   "source": [
    "db = db.rename(columns = {'Month': 'month', 'Monthly beer production': 'production'})"
   ]
  },
  {
   "cell_type": "code",
   "execution_count": 55,
   "metadata": {
    "ExecuteTime": {
     "end_time": "2021-11-14T18:56:05.090675Z",
     "start_time": "2021-11-14T18:56:04.960672Z"
    }
   },
   "outputs": [
    {
     "name": "stdout",
     "output_type": "stream",
     "text": [
      "<class 'pandas.core.frame.DataFrame'>\n",
      "RangeIndex: 476 entries, 0 to 475\n",
      "Data columns (total 2 columns):\n",
      " #   Column      Non-Null Count  Dtype  \n",
      "---  ------      --------------  -----  \n",
      " 0   month       476 non-null    object \n",
      " 1   production  476 non-null    float64\n",
      "dtypes: float64(1), object(1)\n",
      "memory usage: 7.6+ KB\n"
     ]
    }
   ],
   "source": [
    "db.info()"
   ]
  },
  {
   "cell_type": "code",
   "execution_count": 56,
   "metadata": {
    "ExecuteTime": {
     "end_time": "2021-11-14T18:56:05.200968Z",
     "start_time": "2021-11-14T18:56:05.102328Z"
    }
   },
   "outputs": [],
   "source": [
    "db['month'] = pd.to_datetime(db['month'])"
   ]
  },
  {
   "cell_type": "code",
   "execution_count": 57,
   "metadata": {
    "ExecuteTime": {
     "end_time": "2021-11-14T18:56:05.327104Z",
     "start_time": "2021-11-14T18:56:05.212457Z"
    }
   },
   "outputs": [
    {
     "data": {
      "text/plain": [
       "(Timestamp('1956-01-01 00:00:00'), Timestamp('1995-08-01 00:00:00'))"
      ]
     },
     "execution_count": 57,
     "metadata": {},
     "output_type": "execute_result"
    }
   ],
   "source": [
    "db.month.min(), db.month.max()\n",
    "# db.index.min(), db.index.max()"
   ]
  },
  {
   "cell_type": "code",
   "execution_count": 58,
   "metadata": {
    "ExecuteTime": {
     "end_time": "2021-11-14T18:56:05.453990Z",
     "start_time": "2021-11-14T18:56:05.338375Z"
    }
   },
   "outputs": [
    {
     "data": {
      "text/plain": [
       "month         0\n",
       "production    0\n",
       "dtype: int64"
      ]
     },
     "execution_count": 58,
     "metadata": {},
     "output_type": "execute_result"
    }
   ],
   "source": [
    "db.isna().sum()"
   ]
  },
  {
   "cell_type": "code",
   "execution_count": 59,
   "metadata": {
    "ExecuteTime": {
     "end_time": "2021-11-14T18:56:05.687440Z",
     "start_time": "2021-11-14T18:56:05.462149Z"
    }
   },
   "outputs": [
    {
     "data": {
      "application/vnd.plotly.v1+json": {
       "config": {
        "plotlyServerURL": "https://plot.ly"
       },
       "data": [
        {
         "hovertemplate": "index=%{x}<br>production=%{y}<extra></extra>",
         "legendgroup": "",
         "line": {
          "color": "#636efa",
          "dash": "solid"
         },
         "mode": "lines",
         "name": "",
         "orientation": "v",
         "showlegend": false,
         "type": "scatter",
         "x": [
          0,
          1,
          2,
          3,
          4,
          5,
          6,
          7,
          8,
          9,
          10,
          11,
          12,
          13,
          14,
          15,
          16,
          17,
          18,
          19,
          20,
          21,
          22,
          23,
          24,
          25,
          26,
          27,
          28,
          29,
          30,
          31,
          32,
          33,
          34,
          35,
          36,
          37,
          38,
          39,
          40,
          41,
          42,
          43,
          44,
          45,
          46,
          47,
          48,
          49,
          50,
          51,
          52,
          53,
          54,
          55,
          56,
          57,
          58,
          59,
          60,
          61,
          62,
          63,
          64,
          65,
          66,
          67,
          68,
          69,
          70,
          71,
          72,
          73,
          74,
          75,
          76,
          77,
          78,
          79,
          80,
          81,
          82,
          83,
          84,
          85,
          86,
          87,
          88,
          89,
          90,
          91,
          92,
          93,
          94,
          95,
          96,
          97,
          98,
          99,
          100,
          101,
          102,
          103,
          104,
          105,
          106,
          107,
          108,
          109,
          110,
          111,
          112,
          113,
          114,
          115,
          116,
          117,
          118,
          119,
          120,
          121,
          122,
          123,
          124,
          125,
          126,
          127,
          128,
          129,
          130,
          131,
          132,
          133,
          134,
          135,
          136,
          137,
          138,
          139,
          140,
          141,
          142,
          143,
          144,
          145,
          146,
          147,
          148,
          149,
          150,
          151,
          152,
          153,
          154,
          155,
          156,
          157,
          158,
          159,
          160,
          161,
          162,
          163,
          164,
          165,
          166,
          167,
          168,
          169,
          170,
          171,
          172,
          173,
          174,
          175,
          176,
          177,
          178,
          179,
          180,
          181,
          182,
          183,
          184,
          185,
          186,
          187,
          188,
          189,
          190,
          191,
          192,
          193,
          194,
          195,
          196,
          197,
          198,
          199,
          200,
          201,
          202,
          203,
          204,
          205,
          206,
          207,
          208,
          209,
          210,
          211,
          212,
          213,
          214,
          215,
          216,
          217,
          218,
          219,
          220,
          221,
          222,
          223,
          224,
          225,
          226,
          227,
          228,
          229,
          230,
          231,
          232,
          233,
          234,
          235,
          236,
          237,
          238,
          239,
          240,
          241,
          242,
          243,
          244,
          245,
          246,
          247,
          248,
          249,
          250,
          251,
          252,
          253,
          254,
          255,
          256,
          257,
          258,
          259,
          260,
          261,
          262,
          263,
          264,
          265,
          266,
          267,
          268,
          269,
          270,
          271,
          272,
          273,
          274,
          275,
          276,
          277,
          278,
          279,
          280,
          281,
          282,
          283,
          284,
          285,
          286,
          287,
          288,
          289,
          290,
          291,
          292,
          293,
          294,
          295,
          296,
          297,
          298,
          299,
          300,
          301,
          302,
          303,
          304,
          305,
          306,
          307,
          308,
          309,
          310,
          311,
          312,
          313,
          314,
          315,
          316,
          317,
          318,
          319,
          320,
          321,
          322,
          323,
          324,
          325,
          326,
          327,
          328,
          329,
          330,
          331,
          332,
          333,
          334,
          335,
          336,
          337,
          338,
          339,
          340,
          341,
          342,
          343,
          344,
          345,
          346,
          347,
          348,
          349,
          350,
          351,
          352,
          353,
          354,
          355,
          356,
          357,
          358,
          359,
          360,
          361,
          362,
          363,
          364,
          365,
          366,
          367,
          368,
          369,
          370,
          371,
          372,
          373,
          374,
          375,
          376,
          377,
          378,
          379,
          380,
          381,
          382,
          383,
          384,
          385,
          386,
          387,
          388,
          389,
          390,
          391,
          392,
          393,
          394,
          395,
          396,
          397,
          398,
          399,
          400,
          401,
          402,
          403,
          404,
          405,
          406,
          407,
          408,
          409,
          410,
          411,
          412,
          413,
          414,
          415,
          416,
          417,
          418,
          419,
          420,
          421,
          422,
          423,
          424,
          425,
          426,
          427,
          428,
          429,
          430,
          431,
          432,
          433,
          434,
          435,
          436,
          437,
          438,
          439,
          440,
          441,
          442,
          443,
          444,
          445,
          446,
          447,
          448,
          449,
          450,
          451,
          452,
          453,
          454,
          455,
          456,
          457,
          458,
          459,
          460,
          461,
          462,
          463,
          464,
          465,
          466,
          467,
          468,
          469,
          470,
          471,
          472,
          473,
          474,
          475
         ],
         "xaxis": "x",
         "y": [
          93.2,
          96,
          95.2,
          77.1,
          70.9,
          64.8,
          70.1,
          77.3,
          79.5,
          100.6,
          100.7,
          107.1,
          95.9,
          82.8,
          83.3,
          80,
          80.4,
          67.5,
          75.7,
          71.1,
          89.3,
          101.1,
          105.2,
          114.1,
          96.3,
          84.4,
          91.2,
          81.9,
          80.5,
          70.4,
          74.8,
          75.9,
          86.3,
          98.7,
          100.9,
          113.8,
          89.8,
          84.4,
          87.2,
          85.6,
          72,
          69.2,
          77.5,
          78.1,
          94.3,
          97.7,
          100.2,
          116.4,
          97.1,
          93,
          96,
          80.5,
          76.1,
          69.9,
          73.6,
          92.6,
          94.2,
          93.5,
          108.5,
          109.4,
          105.1,
          92.5,
          97.1,
          81.4,
          79.1,
          72.1,
          78.7,
          87.1,
          91.4,
          109.9,
          116.3,
          113,
          100,
          84.8,
          94.3,
          87.1,
          90.3,
          72.4,
          84.9,
          92.7,
          92.2,
          114.9,
          112.5,
          118.3,
          106,
          91.2,
          96.6,
          96.3,
          88.2,
          70.2,
          86.5,
          88.2,
          102.8,
          119.1,
          119.2,
          125.1,
          106.1,
          102.1,
          105.2,
          101,
          84.3,
          87.5,
          92.7,
          94.4,
          113,
          113.9,
          122.9,
          132.7,
          106.9,
          96.6,
          127.3,
          98.2,
          100.2,
          89.4,
          95.3,
          104.2,
          106.4,
          116.2,
          135.9,
          134,
          104.6,
          107.1,
          123.5,
          98.8,
          98.6,
          90.6,
          89.1,
          105.2,
          114,
          122.1,
          138,
          142.2,
          116.4,
          112.6,
          123.8,
          103.6,
          113.9,
          98.6,
          95,
          116,
          113.9,
          127.5,
          131.4,
          145.9,
          131.5,
          131,
          130.5,
          118.9,
          114.3,
          85.7,
          104.6,
          105.1,
          117.3,
          142.5,
          140,
          159.8,
          131.2,
          125.4,
          126.5,
          119.4,
          113.5,
          98.7,
          114.5,
          113.8,
          133.1,
          143.4,
          137.3,
          165.2,
          126.9,
          124,
          135.7,
          130,
          109.4,
          117.8,
          120.3,
          121,
          132.3,
          142.9,
          147.4,
          175.9,
          132.6,
          123.7,
          153.3,
          134,
          119.6,
          116.2,
          118.6,
          130.7,
          129.3,
          144.4,
          163.2,
          179.4,
          128.1,
          138.4,
          152.7,
          120,
          140.5,
          116.2,
          121.4,
          127.8,
          143.6,
          157.6,
          166.2,
          182.3,
          153.1,
          147.6,
          157.7,
          137.2,
          151.5,
          98.7,
          145.8,
          151.7,
          129.4,
          174.1,
          197,
          193.9,
          164.1,
          142.8,
          157.9,
          159.2,
          162.2,
          123.1,
          130,
          150.1,
          169.4,
          179.7,
          182.1,
          194.3,
          161.4,
          169.4,
          168.8,
          158.1,
          158.5,
          135.3,
          149.3,
          143.4,
          142.2,
          188.4,
          166.2,
          199.2,
          182.7,
          145.2,
          182.1,
          158.7,
          141.6,
          132.6,
          139.6,
          147,
          166.6,
          157,
          180.4,
          210.2,
          159.8,
          157.8,
          168.2,
          158.4,
          152,
          142.2,
          137.2,
          152.6,
          166.8,
          165.6,
          198.6,
          201.5,
          170.7,
          164.4,
          179.7,
          157,
          168,
          139.3,
          138.6,
          153.4,
          138.9,
          172.1,
          198.4,
          217.8,
          173.7,
          153.8,
          175.6,
          147.1,
          160.3,
          135.2,
          148.8,
          151,
          148.2,
          182.2,
          189.2,
          183.1,
          170,
          158.4,
          176.1,
          156.2,
          153.2,
          117.9,
          149.8,
          156.6,
          166.7,
          156.8,
          158.6,
          210.8,
          203.6,
          175.2,
          168.7,
          155.9,
          147.3,
          137,
          141.1,
          167.4,
          160.2,
          191.9,
          174.4,
          208.2,
          159.4,
          161.1,
          172.1,
          158.4,
          114.6,
          159.6,
          159.7,
          159.4,
          160.7,
          165.5,
          205,
          205.2,
          141.6,
          148.1,
          184.9,
          132.5,
          137.3,
          135.5,
          121.7,
          166.1,
          146.8,
          162.8,
          186.8,
          185.5,
          151.5,
          158.1,
          143,
          151.2,
          147.6,
          130.7,
          137.5,
          146.1,
          133.6,
          167.9,
          181.9,
          202,
          166.5,
          151.3,
          146.2,
          148.3,
          144.7,
          123.6,
          151.6,
          133.9,
          137.4,
          181.6,
          182,
          190,
          161.2,
          155.5,
          141.9,
          164.6,
          136.2,
          126.8,
          152.5,
          126.6,
          150.1,
          186.3,
          147.5,
          200.4,
          177.2,
          127.4,
          177.1,
          154.4,
          135.2,
          126.4,
          147.3,
          140.6,
          152.3,
          151.2,
          172.2,
          215.3,
          154.1,
          159.3,
          160.4,
          151.9,
          148.4,
          139.6,
          148.2,
          153.5,
          145.1,
          183.7,
          210.5,
          203.3,
          153.3,
          144.3,
          169.6,
          143.7,
          160.1,
          135.6,
          141.8,
          159.9,
          145.7,
          183.5,
          198.2,
          186.8,
          172,
          150.6,
          163.3,
          153.7,
          152.9,
          135.5,
          148.5,
          148.4,
          133.6,
          194.1,
          208.6,
          197.3,
          164.4,
          148.1,
          152,
          144.1,
          155,
          124.5,
          153,
          146,
          138,
          190,
          192,
          192,
          147,
          133,
          163,
          150,
          129,
          131,
          145,
          137,
          138,
          168,
          176,
          188,
          139,
          143,
          150,
          154,
          137,
          129,
          128,
          140,
          143,
          151,
          177,
          184,
          151,
          134,
          164,
          126,
          131,
          125,
          127,
          143,
          143,
          160,
          190,
          182,
          138,
          136,
          152,
          127,
          151,
          130,
          119,
          153
         ],
         "yaxis": "y"
        }
       ],
       "layout": {
        "legend": {
         "tracegroupgap": 0
        },
        "margin": {
         "t": 60
        },
        "template": {
         "data": {
          "bar": [
           {
            "error_x": {
             "color": "#2a3f5f"
            },
            "error_y": {
             "color": "#2a3f5f"
            },
            "marker": {
             "line": {
              "color": "#E5ECF6",
              "width": 0.5
             }
            },
            "type": "bar"
           }
          ],
          "barpolar": [
           {
            "marker": {
             "line": {
              "color": "#E5ECF6",
              "width": 0.5
             }
            },
            "type": "barpolar"
           }
          ],
          "carpet": [
           {
            "aaxis": {
             "endlinecolor": "#2a3f5f",
             "gridcolor": "white",
             "linecolor": "white",
             "minorgridcolor": "white",
             "startlinecolor": "#2a3f5f"
            },
            "baxis": {
             "endlinecolor": "#2a3f5f",
             "gridcolor": "white",
             "linecolor": "white",
             "minorgridcolor": "white",
             "startlinecolor": "#2a3f5f"
            },
            "type": "carpet"
           }
          ],
          "choropleth": [
           {
            "colorbar": {
             "outlinewidth": 0,
             "ticks": ""
            },
            "type": "choropleth"
           }
          ],
          "contour": [
           {
            "colorbar": {
             "outlinewidth": 0,
             "ticks": ""
            },
            "colorscale": [
             [
              0,
              "#0d0887"
             ],
             [
              0.1111111111111111,
              "#46039f"
             ],
             [
              0.2222222222222222,
              "#7201a8"
             ],
             [
              0.3333333333333333,
              "#9c179e"
             ],
             [
              0.4444444444444444,
              "#bd3786"
             ],
             [
              0.5555555555555556,
              "#d8576b"
             ],
             [
              0.6666666666666666,
              "#ed7953"
             ],
             [
              0.7777777777777778,
              "#fb9f3a"
             ],
             [
              0.8888888888888888,
              "#fdca26"
             ],
             [
              1,
              "#f0f921"
             ]
            ],
            "type": "contour"
           }
          ],
          "contourcarpet": [
           {
            "colorbar": {
             "outlinewidth": 0,
             "ticks": ""
            },
            "type": "contourcarpet"
           }
          ],
          "heatmap": [
           {
            "colorbar": {
             "outlinewidth": 0,
             "ticks": ""
            },
            "colorscale": [
             [
              0,
              "#0d0887"
             ],
             [
              0.1111111111111111,
              "#46039f"
             ],
             [
              0.2222222222222222,
              "#7201a8"
             ],
             [
              0.3333333333333333,
              "#9c179e"
             ],
             [
              0.4444444444444444,
              "#bd3786"
             ],
             [
              0.5555555555555556,
              "#d8576b"
             ],
             [
              0.6666666666666666,
              "#ed7953"
             ],
             [
              0.7777777777777778,
              "#fb9f3a"
             ],
             [
              0.8888888888888888,
              "#fdca26"
             ],
             [
              1,
              "#f0f921"
             ]
            ],
            "type": "heatmap"
           }
          ],
          "heatmapgl": [
           {
            "colorbar": {
             "outlinewidth": 0,
             "ticks": ""
            },
            "colorscale": [
             [
              0,
              "#0d0887"
             ],
             [
              0.1111111111111111,
              "#46039f"
             ],
             [
              0.2222222222222222,
              "#7201a8"
             ],
             [
              0.3333333333333333,
              "#9c179e"
             ],
             [
              0.4444444444444444,
              "#bd3786"
             ],
             [
              0.5555555555555556,
              "#d8576b"
             ],
             [
              0.6666666666666666,
              "#ed7953"
             ],
             [
              0.7777777777777778,
              "#fb9f3a"
             ],
             [
              0.8888888888888888,
              "#fdca26"
             ],
             [
              1,
              "#f0f921"
             ]
            ],
            "type": "heatmapgl"
           }
          ],
          "histogram": [
           {
            "marker": {
             "colorbar": {
              "outlinewidth": 0,
              "ticks": ""
             }
            },
            "type": "histogram"
           }
          ],
          "histogram2d": [
           {
            "colorbar": {
             "outlinewidth": 0,
             "ticks": ""
            },
            "colorscale": [
             [
              0,
              "#0d0887"
             ],
             [
              0.1111111111111111,
              "#46039f"
             ],
             [
              0.2222222222222222,
              "#7201a8"
             ],
             [
              0.3333333333333333,
              "#9c179e"
             ],
             [
              0.4444444444444444,
              "#bd3786"
             ],
             [
              0.5555555555555556,
              "#d8576b"
             ],
             [
              0.6666666666666666,
              "#ed7953"
             ],
             [
              0.7777777777777778,
              "#fb9f3a"
             ],
             [
              0.8888888888888888,
              "#fdca26"
             ],
             [
              1,
              "#f0f921"
             ]
            ],
            "type": "histogram2d"
           }
          ],
          "histogram2dcontour": [
           {
            "colorbar": {
             "outlinewidth": 0,
             "ticks": ""
            },
            "colorscale": [
             [
              0,
              "#0d0887"
             ],
             [
              0.1111111111111111,
              "#46039f"
             ],
             [
              0.2222222222222222,
              "#7201a8"
             ],
             [
              0.3333333333333333,
              "#9c179e"
             ],
             [
              0.4444444444444444,
              "#bd3786"
             ],
             [
              0.5555555555555556,
              "#d8576b"
             ],
             [
              0.6666666666666666,
              "#ed7953"
             ],
             [
              0.7777777777777778,
              "#fb9f3a"
             ],
             [
              0.8888888888888888,
              "#fdca26"
             ],
             [
              1,
              "#f0f921"
             ]
            ],
            "type": "histogram2dcontour"
           }
          ],
          "mesh3d": [
           {
            "colorbar": {
             "outlinewidth": 0,
             "ticks": ""
            },
            "type": "mesh3d"
           }
          ],
          "parcoords": [
           {
            "line": {
             "colorbar": {
              "outlinewidth": 0,
              "ticks": ""
             }
            },
            "type": "parcoords"
           }
          ],
          "pie": [
           {
            "automargin": true,
            "type": "pie"
           }
          ],
          "scatter": [
           {
            "marker": {
             "colorbar": {
              "outlinewidth": 0,
              "ticks": ""
             }
            },
            "type": "scatter"
           }
          ],
          "scatter3d": [
           {
            "line": {
             "colorbar": {
              "outlinewidth": 0,
              "ticks": ""
             }
            },
            "marker": {
             "colorbar": {
              "outlinewidth": 0,
              "ticks": ""
             }
            },
            "type": "scatter3d"
           }
          ],
          "scattercarpet": [
           {
            "marker": {
             "colorbar": {
              "outlinewidth": 0,
              "ticks": ""
             }
            },
            "type": "scattercarpet"
           }
          ],
          "scattergeo": [
           {
            "marker": {
             "colorbar": {
              "outlinewidth": 0,
              "ticks": ""
             }
            },
            "type": "scattergeo"
           }
          ],
          "scattergl": [
           {
            "marker": {
             "colorbar": {
              "outlinewidth": 0,
              "ticks": ""
             }
            },
            "type": "scattergl"
           }
          ],
          "scattermapbox": [
           {
            "marker": {
             "colorbar": {
              "outlinewidth": 0,
              "ticks": ""
             }
            },
            "type": "scattermapbox"
           }
          ],
          "scatterpolar": [
           {
            "marker": {
             "colorbar": {
              "outlinewidth": 0,
              "ticks": ""
             }
            },
            "type": "scatterpolar"
           }
          ],
          "scatterpolargl": [
           {
            "marker": {
             "colorbar": {
              "outlinewidth": 0,
              "ticks": ""
             }
            },
            "type": "scatterpolargl"
           }
          ],
          "scatterternary": [
           {
            "marker": {
             "colorbar": {
              "outlinewidth": 0,
              "ticks": ""
             }
            },
            "type": "scatterternary"
           }
          ],
          "surface": [
           {
            "colorbar": {
             "outlinewidth": 0,
             "ticks": ""
            },
            "colorscale": [
             [
              0,
              "#0d0887"
             ],
             [
              0.1111111111111111,
              "#46039f"
             ],
             [
              0.2222222222222222,
              "#7201a8"
             ],
             [
              0.3333333333333333,
              "#9c179e"
             ],
             [
              0.4444444444444444,
              "#bd3786"
             ],
             [
              0.5555555555555556,
              "#d8576b"
             ],
             [
              0.6666666666666666,
              "#ed7953"
             ],
             [
              0.7777777777777778,
              "#fb9f3a"
             ],
             [
              0.8888888888888888,
              "#fdca26"
             ],
             [
              1,
              "#f0f921"
             ]
            ],
            "type": "surface"
           }
          ],
          "table": [
           {
            "cells": {
             "fill": {
              "color": "#EBF0F8"
             },
             "line": {
              "color": "white"
             }
            },
            "header": {
             "fill": {
              "color": "#C8D4E3"
             },
             "line": {
              "color": "white"
             }
            },
            "type": "table"
           }
          ]
         },
         "layout": {
          "annotationdefaults": {
           "arrowcolor": "#2a3f5f",
           "arrowhead": 0,
           "arrowwidth": 1
          },
          "autotypenumbers": "strict",
          "coloraxis": {
           "colorbar": {
            "outlinewidth": 0,
            "ticks": ""
           }
          },
          "colorscale": {
           "diverging": [
            [
             0,
             "#8e0152"
            ],
            [
             0.1,
             "#c51b7d"
            ],
            [
             0.2,
             "#de77ae"
            ],
            [
             0.3,
             "#f1b6da"
            ],
            [
             0.4,
             "#fde0ef"
            ],
            [
             0.5,
             "#f7f7f7"
            ],
            [
             0.6,
             "#e6f5d0"
            ],
            [
             0.7,
             "#b8e186"
            ],
            [
             0.8,
             "#7fbc41"
            ],
            [
             0.9,
             "#4d9221"
            ],
            [
             1,
             "#276419"
            ]
           ],
           "sequential": [
            [
             0,
             "#0d0887"
            ],
            [
             0.1111111111111111,
             "#46039f"
            ],
            [
             0.2222222222222222,
             "#7201a8"
            ],
            [
             0.3333333333333333,
             "#9c179e"
            ],
            [
             0.4444444444444444,
             "#bd3786"
            ],
            [
             0.5555555555555556,
             "#d8576b"
            ],
            [
             0.6666666666666666,
             "#ed7953"
            ],
            [
             0.7777777777777778,
             "#fb9f3a"
            ],
            [
             0.8888888888888888,
             "#fdca26"
            ],
            [
             1,
             "#f0f921"
            ]
           ],
           "sequentialminus": [
            [
             0,
             "#0d0887"
            ],
            [
             0.1111111111111111,
             "#46039f"
            ],
            [
             0.2222222222222222,
             "#7201a8"
            ],
            [
             0.3333333333333333,
             "#9c179e"
            ],
            [
             0.4444444444444444,
             "#bd3786"
            ],
            [
             0.5555555555555556,
             "#d8576b"
            ],
            [
             0.6666666666666666,
             "#ed7953"
            ],
            [
             0.7777777777777778,
             "#fb9f3a"
            ],
            [
             0.8888888888888888,
             "#fdca26"
            ],
            [
             1,
             "#f0f921"
            ]
           ]
          },
          "colorway": [
           "#636efa",
           "#EF553B",
           "#00cc96",
           "#ab63fa",
           "#FFA15A",
           "#19d3f3",
           "#FF6692",
           "#B6E880",
           "#FF97FF",
           "#FECB52"
          ],
          "font": {
           "color": "#2a3f5f"
          },
          "geo": {
           "bgcolor": "white",
           "lakecolor": "white",
           "landcolor": "#E5ECF6",
           "showlakes": true,
           "showland": true,
           "subunitcolor": "white"
          },
          "hoverlabel": {
           "align": "left"
          },
          "hovermode": "closest",
          "mapbox": {
           "style": "light"
          },
          "paper_bgcolor": "white",
          "plot_bgcolor": "#E5ECF6",
          "polar": {
           "angularaxis": {
            "gridcolor": "white",
            "linecolor": "white",
            "ticks": ""
           },
           "bgcolor": "#E5ECF6",
           "radialaxis": {
            "gridcolor": "white",
            "linecolor": "white",
            "ticks": ""
           }
          },
          "scene": {
           "xaxis": {
            "backgroundcolor": "#E5ECF6",
            "gridcolor": "white",
            "gridwidth": 2,
            "linecolor": "white",
            "showbackground": true,
            "ticks": "",
            "zerolinecolor": "white"
           },
           "yaxis": {
            "backgroundcolor": "#E5ECF6",
            "gridcolor": "white",
            "gridwidth": 2,
            "linecolor": "white",
            "showbackground": true,
            "ticks": "",
            "zerolinecolor": "white"
           },
           "zaxis": {
            "backgroundcolor": "#E5ECF6",
            "gridcolor": "white",
            "gridwidth": 2,
            "linecolor": "white",
            "showbackground": true,
            "ticks": "",
            "zerolinecolor": "white"
           }
          },
          "shapedefaults": {
           "line": {
            "color": "#2a3f5f"
           }
          },
          "ternary": {
           "aaxis": {
            "gridcolor": "white",
            "linecolor": "white",
            "ticks": ""
           },
           "baxis": {
            "gridcolor": "white",
            "linecolor": "white",
            "ticks": ""
           },
           "bgcolor": "#E5ECF6",
           "caxis": {
            "gridcolor": "white",
            "linecolor": "white",
            "ticks": ""
           }
          },
          "title": {
           "x": 0.05
          },
          "xaxis": {
           "automargin": true,
           "gridcolor": "white",
           "linecolor": "white",
           "ticks": "",
           "title": {
            "standoff": 15
           },
           "zerolinecolor": "white",
           "zerolinewidth": 2
          },
          "yaxis": {
           "automargin": true,
           "gridcolor": "white",
           "linecolor": "white",
           "ticks": "",
           "title": {
            "standoff": 15
           },
           "zerolinecolor": "white",
           "zerolinewidth": 2
          }
         }
        },
        "xaxis": {
         "anchor": "y",
         "domain": [
          0,
          1
         ],
         "title": {
          "text": "index"
         }
        },
        "yaxis": {
         "anchor": "x",
         "domain": [
          0,
          1
         ],
         "title": {
          "text": "production"
         }
        }
       }
      },
      "text/html": [
       "<div>                            <div id=\"59472a1e-4e8a-4ce3-9909-a167b93b6865\" class=\"plotly-graph-div\" style=\"height:525px; width:100%;\"></div>            <script type=\"text/javascript\">                require([\"plotly\"], function(Plotly) {                    window.PLOTLYENV=window.PLOTLYENV || {};                                    if (document.getElementById(\"59472a1e-4e8a-4ce3-9909-a167b93b6865\")) {                    Plotly.newPlot(                        \"59472a1e-4e8a-4ce3-9909-a167b93b6865\",                        [{\"hovertemplate\": \"index=%{x}<br>production=%{y}<extra></extra>\", \"legendgroup\": \"\", \"line\": {\"color\": \"#636efa\", \"dash\": \"solid\"}, \"mode\": \"lines\", \"name\": \"\", \"orientation\": \"v\", \"showlegend\": false, \"type\": \"scatter\", \"x\": [0, 1, 2, 3, 4, 5, 6, 7, 8, 9, 10, 11, 12, 13, 14, 15, 16, 17, 18, 19, 20, 21, 22, 23, 24, 25, 26, 27, 28, 29, 30, 31, 32, 33, 34, 35, 36, 37, 38, 39, 40, 41, 42, 43, 44, 45, 46, 47, 48, 49, 50, 51, 52, 53, 54, 55, 56, 57, 58, 59, 60, 61, 62, 63, 64, 65, 66, 67, 68, 69, 70, 71, 72, 73, 74, 75, 76, 77, 78, 79, 80, 81, 82, 83, 84, 85, 86, 87, 88, 89, 90, 91, 92, 93, 94, 95, 96, 97, 98, 99, 100, 101, 102, 103, 104, 105, 106, 107, 108, 109, 110, 111, 112, 113, 114, 115, 116, 117, 118, 119, 120, 121, 122, 123, 124, 125, 126, 127, 128, 129, 130, 131, 132, 133, 134, 135, 136, 137, 138, 139, 140, 141, 142, 143, 144, 145, 146, 147, 148, 149, 150, 151, 152, 153, 154, 155, 156, 157, 158, 159, 160, 161, 162, 163, 164, 165, 166, 167, 168, 169, 170, 171, 172, 173, 174, 175, 176, 177, 178, 179, 180, 181, 182, 183, 184, 185, 186, 187, 188, 189, 190, 191, 192, 193, 194, 195, 196, 197, 198, 199, 200, 201, 202, 203, 204, 205, 206, 207, 208, 209, 210, 211, 212, 213, 214, 215, 216, 217, 218, 219, 220, 221, 222, 223, 224, 225, 226, 227, 228, 229, 230, 231, 232, 233, 234, 235, 236, 237, 238, 239, 240, 241, 242, 243, 244, 245, 246, 247, 248, 249, 250, 251, 252, 253, 254, 255, 256, 257, 258, 259, 260, 261, 262, 263, 264, 265, 266, 267, 268, 269, 270, 271, 272, 273, 274, 275, 276, 277, 278, 279, 280, 281, 282, 283, 284, 285, 286, 287, 288, 289, 290, 291, 292, 293, 294, 295, 296, 297, 298, 299, 300, 301, 302, 303, 304, 305, 306, 307, 308, 309, 310, 311, 312, 313, 314, 315, 316, 317, 318, 319, 320, 321, 322, 323, 324, 325, 326, 327, 328, 329, 330, 331, 332, 333, 334, 335, 336, 337, 338, 339, 340, 341, 342, 343, 344, 345, 346, 347, 348, 349, 350, 351, 352, 353, 354, 355, 356, 357, 358, 359, 360, 361, 362, 363, 364, 365, 366, 367, 368, 369, 370, 371, 372, 373, 374, 375, 376, 377, 378, 379, 380, 381, 382, 383, 384, 385, 386, 387, 388, 389, 390, 391, 392, 393, 394, 395, 396, 397, 398, 399, 400, 401, 402, 403, 404, 405, 406, 407, 408, 409, 410, 411, 412, 413, 414, 415, 416, 417, 418, 419, 420, 421, 422, 423, 424, 425, 426, 427, 428, 429, 430, 431, 432, 433, 434, 435, 436, 437, 438, 439, 440, 441, 442, 443, 444, 445, 446, 447, 448, 449, 450, 451, 452, 453, 454, 455, 456, 457, 458, 459, 460, 461, 462, 463, 464, 465, 466, 467, 468, 469, 470, 471, 472, 473, 474, 475], \"xaxis\": \"x\", \"y\": [93.2, 96.0, 95.2, 77.1, 70.9, 64.8, 70.1, 77.3, 79.5, 100.6, 100.7, 107.1, 95.9, 82.8, 83.3, 80.0, 80.4, 67.5, 75.7, 71.1, 89.3, 101.1, 105.2, 114.1, 96.3, 84.4, 91.2, 81.9, 80.5, 70.4, 74.8, 75.9, 86.3, 98.7, 100.9, 113.8, 89.8, 84.4, 87.2, 85.6, 72.0, 69.2, 77.5, 78.1, 94.3, 97.7, 100.2, 116.4, 97.1, 93.0, 96.0, 80.5, 76.1, 69.9, 73.6, 92.6, 94.2, 93.5, 108.5, 109.4, 105.1, 92.5, 97.1, 81.4, 79.1, 72.1, 78.7, 87.1, 91.4, 109.9, 116.3, 113.0, 100.0, 84.8, 94.3, 87.1, 90.3, 72.4, 84.9, 92.7, 92.2, 114.9, 112.5, 118.3, 106.0, 91.2, 96.6, 96.3, 88.2, 70.2, 86.5, 88.2, 102.8, 119.1, 119.2, 125.1, 106.1, 102.1, 105.2, 101.0, 84.3, 87.5, 92.7, 94.4, 113.0, 113.9, 122.9, 132.7, 106.9, 96.6, 127.3, 98.2, 100.2, 89.4, 95.3, 104.2, 106.4, 116.2, 135.9, 134.0, 104.6, 107.1, 123.5, 98.8, 98.6, 90.6, 89.1, 105.2, 114.0, 122.1, 138.0, 142.2, 116.4, 112.6, 123.8, 103.6, 113.9, 98.6, 95.0, 116.0, 113.9, 127.5, 131.4, 145.9, 131.5, 131.0, 130.5, 118.9, 114.3, 85.7, 104.6, 105.1, 117.3, 142.5, 140.0, 159.8, 131.2, 125.4, 126.5, 119.4, 113.5, 98.7, 114.5, 113.8, 133.1, 143.4, 137.3, 165.2, 126.9, 124.0, 135.7, 130.0, 109.4, 117.8, 120.3, 121.0, 132.3, 142.9, 147.4, 175.9, 132.6, 123.7, 153.3, 134.0, 119.6, 116.2, 118.6, 130.7, 129.3, 144.4, 163.2, 179.4, 128.1, 138.4, 152.7, 120.0, 140.5, 116.2, 121.4, 127.8, 143.6, 157.6, 166.2, 182.3, 153.1, 147.6, 157.7, 137.2, 151.5, 98.7, 145.8, 151.7, 129.4, 174.1, 197.0, 193.9, 164.1, 142.8, 157.9, 159.2, 162.2, 123.1, 130.0, 150.1, 169.4, 179.7, 182.1, 194.3, 161.4, 169.4, 168.8, 158.1, 158.5, 135.3, 149.3, 143.4, 142.2, 188.4, 166.2, 199.2, 182.7, 145.2, 182.1, 158.7, 141.6, 132.6, 139.6, 147.0, 166.6, 157.0, 180.4, 210.2, 159.8, 157.8, 168.2, 158.4, 152.0, 142.2, 137.2, 152.6, 166.8, 165.6, 198.6, 201.5, 170.7, 164.4, 179.7, 157.0, 168.0, 139.3, 138.6, 153.4, 138.9, 172.1, 198.4, 217.8, 173.7, 153.8, 175.6, 147.1, 160.3, 135.2, 148.8, 151.0, 148.2, 182.2, 189.2, 183.1, 170.0, 158.4, 176.1, 156.2, 153.2, 117.9, 149.8, 156.6, 166.7, 156.8, 158.6, 210.8, 203.6, 175.2, 168.7, 155.9, 147.3, 137.0, 141.1, 167.4, 160.2, 191.9, 174.4, 208.2, 159.4, 161.1, 172.1, 158.4, 114.6, 159.6, 159.7, 159.4, 160.7, 165.5, 205.0, 205.2, 141.6, 148.1, 184.9, 132.5, 137.3, 135.5, 121.7, 166.1, 146.8, 162.8, 186.8, 185.5, 151.5, 158.1, 143.0, 151.2, 147.6, 130.7, 137.5, 146.1, 133.6, 167.9, 181.9, 202.0, 166.5, 151.3, 146.2, 148.3, 144.7, 123.6, 151.6, 133.9, 137.4, 181.6, 182.0, 190.0, 161.2, 155.5, 141.9, 164.6, 136.2, 126.8, 152.5, 126.6, 150.1, 186.3, 147.5, 200.4, 177.2, 127.4, 177.1, 154.4, 135.2, 126.4, 147.3, 140.6, 152.3, 151.2, 172.2, 215.3, 154.1, 159.3, 160.4, 151.9, 148.4, 139.6, 148.2, 153.5, 145.1, 183.7, 210.5, 203.3, 153.3, 144.3, 169.6, 143.7, 160.1, 135.6, 141.8, 159.9, 145.7, 183.5, 198.2, 186.8, 172.0, 150.6, 163.3, 153.7, 152.9, 135.5, 148.5, 148.4, 133.6, 194.1, 208.6, 197.3, 164.4, 148.1, 152.0, 144.1, 155.0, 124.5, 153.0, 146.0, 138.0, 190.0, 192.0, 192.0, 147.0, 133.0, 163.0, 150.0, 129.0, 131.0, 145.0, 137.0, 138.0, 168.0, 176.0, 188.0, 139.0, 143.0, 150.0, 154.0, 137.0, 129.0, 128.0, 140.0, 143.0, 151.0, 177.0, 184.0, 151.0, 134.0, 164.0, 126.0, 131.0, 125.0, 127.0, 143.0, 143.0, 160.0, 190.0, 182.0, 138.0, 136.0, 152.0, 127.0, 151.0, 130.0, 119.0, 153.0], \"yaxis\": \"y\"}],                        {\"legend\": {\"tracegroupgap\": 0}, \"margin\": {\"t\": 60}, \"template\": {\"data\": {\"bar\": [{\"error_x\": {\"color\": \"#2a3f5f\"}, \"error_y\": {\"color\": \"#2a3f5f\"}, \"marker\": {\"line\": {\"color\": \"#E5ECF6\", \"width\": 0.5}}, \"type\": \"bar\"}], \"barpolar\": [{\"marker\": {\"line\": {\"color\": \"#E5ECF6\", \"width\": 0.5}}, \"type\": \"barpolar\"}], \"carpet\": [{\"aaxis\": {\"endlinecolor\": \"#2a3f5f\", \"gridcolor\": \"white\", \"linecolor\": \"white\", \"minorgridcolor\": \"white\", \"startlinecolor\": \"#2a3f5f\"}, \"baxis\": {\"endlinecolor\": \"#2a3f5f\", \"gridcolor\": \"white\", \"linecolor\": \"white\", \"minorgridcolor\": \"white\", \"startlinecolor\": \"#2a3f5f\"}, \"type\": \"carpet\"}], \"choropleth\": [{\"colorbar\": {\"outlinewidth\": 0, \"ticks\": \"\"}, \"type\": \"choropleth\"}], \"contour\": [{\"colorbar\": {\"outlinewidth\": 0, \"ticks\": \"\"}, \"colorscale\": [[0.0, \"#0d0887\"], [0.1111111111111111, \"#46039f\"], [0.2222222222222222, \"#7201a8\"], [0.3333333333333333, \"#9c179e\"], [0.4444444444444444, \"#bd3786\"], [0.5555555555555556, \"#d8576b\"], [0.6666666666666666, \"#ed7953\"], [0.7777777777777778, \"#fb9f3a\"], [0.8888888888888888, \"#fdca26\"], [1.0, \"#f0f921\"]], \"type\": \"contour\"}], \"contourcarpet\": [{\"colorbar\": {\"outlinewidth\": 0, \"ticks\": \"\"}, \"type\": \"contourcarpet\"}], \"heatmap\": [{\"colorbar\": {\"outlinewidth\": 0, \"ticks\": \"\"}, \"colorscale\": [[0.0, \"#0d0887\"], [0.1111111111111111, \"#46039f\"], [0.2222222222222222, \"#7201a8\"], [0.3333333333333333, \"#9c179e\"], [0.4444444444444444, \"#bd3786\"], [0.5555555555555556, \"#d8576b\"], [0.6666666666666666, \"#ed7953\"], [0.7777777777777778, \"#fb9f3a\"], [0.8888888888888888, \"#fdca26\"], [1.0, \"#f0f921\"]], \"type\": \"heatmap\"}], \"heatmapgl\": [{\"colorbar\": {\"outlinewidth\": 0, \"ticks\": \"\"}, \"colorscale\": [[0.0, \"#0d0887\"], [0.1111111111111111, \"#46039f\"], [0.2222222222222222, \"#7201a8\"], [0.3333333333333333, \"#9c179e\"], [0.4444444444444444, \"#bd3786\"], [0.5555555555555556, \"#d8576b\"], [0.6666666666666666, \"#ed7953\"], [0.7777777777777778, \"#fb9f3a\"], [0.8888888888888888, \"#fdca26\"], [1.0, \"#f0f921\"]], \"type\": \"heatmapgl\"}], \"histogram\": [{\"marker\": {\"colorbar\": {\"outlinewidth\": 0, \"ticks\": \"\"}}, \"type\": \"histogram\"}], \"histogram2d\": [{\"colorbar\": {\"outlinewidth\": 0, \"ticks\": \"\"}, \"colorscale\": [[0.0, \"#0d0887\"], [0.1111111111111111, \"#46039f\"], [0.2222222222222222, \"#7201a8\"], [0.3333333333333333, \"#9c179e\"], [0.4444444444444444, \"#bd3786\"], [0.5555555555555556, \"#d8576b\"], [0.6666666666666666, \"#ed7953\"], [0.7777777777777778, \"#fb9f3a\"], [0.8888888888888888, \"#fdca26\"], [1.0, \"#f0f921\"]], \"type\": \"histogram2d\"}], \"histogram2dcontour\": [{\"colorbar\": {\"outlinewidth\": 0, \"ticks\": \"\"}, \"colorscale\": [[0.0, \"#0d0887\"], [0.1111111111111111, \"#46039f\"], [0.2222222222222222, \"#7201a8\"], [0.3333333333333333, \"#9c179e\"], [0.4444444444444444, \"#bd3786\"], [0.5555555555555556, \"#d8576b\"], [0.6666666666666666, \"#ed7953\"], [0.7777777777777778, \"#fb9f3a\"], [0.8888888888888888, \"#fdca26\"], [1.0, \"#f0f921\"]], \"type\": \"histogram2dcontour\"}], \"mesh3d\": [{\"colorbar\": {\"outlinewidth\": 0, \"ticks\": \"\"}, \"type\": \"mesh3d\"}], \"parcoords\": [{\"line\": {\"colorbar\": {\"outlinewidth\": 0, \"ticks\": \"\"}}, \"type\": \"parcoords\"}], \"pie\": [{\"automargin\": true, \"type\": \"pie\"}], \"scatter\": [{\"marker\": {\"colorbar\": {\"outlinewidth\": 0, \"ticks\": \"\"}}, \"type\": \"scatter\"}], \"scatter3d\": [{\"line\": {\"colorbar\": {\"outlinewidth\": 0, \"ticks\": \"\"}}, \"marker\": {\"colorbar\": {\"outlinewidth\": 0, \"ticks\": \"\"}}, \"type\": \"scatter3d\"}], \"scattercarpet\": [{\"marker\": {\"colorbar\": {\"outlinewidth\": 0, \"ticks\": \"\"}}, \"type\": \"scattercarpet\"}], \"scattergeo\": [{\"marker\": {\"colorbar\": {\"outlinewidth\": 0, \"ticks\": \"\"}}, \"type\": \"scattergeo\"}], \"scattergl\": [{\"marker\": {\"colorbar\": {\"outlinewidth\": 0, \"ticks\": \"\"}}, \"type\": \"scattergl\"}], \"scattermapbox\": [{\"marker\": {\"colorbar\": {\"outlinewidth\": 0, \"ticks\": \"\"}}, \"type\": \"scattermapbox\"}], \"scatterpolar\": [{\"marker\": {\"colorbar\": {\"outlinewidth\": 0, \"ticks\": \"\"}}, \"type\": \"scatterpolar\"}], \"scatterpolargl\": [{\"marker\": {\"colorbar\": {\"outlinewidth\": 0, \"ticks\": \"\"}}, \"type\": \"scatterpolargl\"}], \"scatterternary\": [{\"marker\": {\"colorbar\": {\"outlinewidth\": 0, \"ticks\": \"\"}}, \"type\": \"scatterternary\"}], \"surface\": [{\"colorbar\": {\"outlinewidth\": 0, \"ticks\": \"\"}, \"colorscale\": [[0.0, \"#0d0887\"], [0.1111111111111111, \"#46039f\"], [0.2222222222222222, \"#7201a8\"], [0.3333333333333333, \"#9c179e\"], [0.4444444444444444, \"#bd3786\"], [0.5555555555555556, \"#d8576b\"], [0.6666666666666666, \"#ed7953\"], [0.7777777777777778, \"#fb9f3a\"], [0.8888888888888888, \"#fdca26\"], [1.0, \"#f0f921\"]], \"type\": \"surface\"}], \"table\": [{\"cells\": {\"fill\": {\"color\": \"#EBF0F8\"}, \"line\": {\"color\": \"white\"}}, \"header\": {\"fill\": {\"color\": \"#C8D4E3\"}, \"line\": {\"color\": \"white\"}}, \"type\": \"table\"}]}, \"layout\": {\"annotationdefaults\": {\"arrowcolor\": \"#2a3f5f\", \"arrowhead\": 0, \"arrowwidth\": 1}, \"autotypenumbers\": \"strict\", \"coloraxis\": {\"colorbar\": {\"outlinewidth\": 0, \"ticks\": \"\"}}, \"colorscale\": {\"diverging\": [[0, \"#8e0152\"], [0.1, \"#c51b7d\"], [0.2, \"#de77ae\"], [0.3, \"#f1b6da\"], [0.4, \"#fde0ef\"], [0.5, \"#f7f7f7\"], [0.6, \"#e6f5d0\"], [0.7, \"#b8e186\"], [0.8, \"#7fbc41\"], [0.9, \"#4d9221\"], [1, \"#276419\"]], \"sequential\": [[0.0, \"#0d0887\"], [0.1111111111111111, \"#46039f\"], [0.2222222222222222, \"#7201a8\"], [0.3333333333333333, \"#9c179e\"], [0.4444444444444444, \"#bd3786\"], [0.5555555555555556, \"#d8576b\"], [0.6666666666666666, \"#ed7953\"], [0.7777777777777778, \"#fb9f3a\"], [0.8888888888888888, \"#fdca26\"], [1.0, \"#f0f921\"]], \"sequentialminus\": [[0.0, \"#0d0887\"], [0.1111111111111111, \"#46039f\"], [0.2222222222222222, \"#7201a8\"], [0.3333333333333333, \"#9c179e\"], [0.4444444444444444, \"#bd3786\"], [0.5555555555555556, \"#d8576b\"], [0.6666666666666666, \"#ed7953\"], [0.7777777777777778, \"#fb9f3a\"], [0.8888888888888888, \"#fdca26\"], [1.0, \"#f0f921\"]]}, \"colorway\": [\"#636efa\", \"#EF553B\", \"#00cc96\", \"#ab63fa\", \"#FFA15A\", \"#19d3f3\", \"#FF6692\", \"#B6E880\", \"#FF97FF\", \"#FECB52\"], \"font\": {\"color\": \"#2a3f5f\"}, \"geo\": {\"bgcolor\": \"white\", \"lakecolor\": \"white\", \"landcolor\": \"#E5ECF6\", \"showlakes\": true, \"showland\": true, \"subunitcolor\": \"white\"}, \"hoverlabel\": {\"align\": \"left\"}, \"hovermode\": \"closest\", \"mapbox\": {\"style\": \"light\"}, \"paper_bgcolor\": \"white\", \"plot_bgcolor\": \"#E5ECF6\", \"polar\": {\"angularaxis\": {\"gridcolor\": \"white\", \"linecolor\": \"white\", \"ticks\": \"\"}, \"bgcolor\": \"#E5ECF6\", \"radialaxis\": {\"gridcolor\": \"white\", \"linecolor\": \"white\", \"ticks\": \"\"}}, \"scene\": {\"xaxis\": {\"backgroundcolor\": \"#E5ECF6\", \"gridcolor\": \"white\", \"gridwidth\": 2, \"linecolor\": \"white\", \"showbackground\": true, \"ticks\": \"\", \"zerolinecolor\": \"white\"}, \"yaxis\": {\"backgroundcolor\": \"#E5ECF6\", \"gridcolor\": \"white\", \"gridwidth\": 2, \"linecolor\": \"white\", \"showbackground\": true, \"ticks\": \"\", \"zerolinecolor\": \"white\"}, \"zaxis\": {\"backgroundcolor\": \"#E5ECF6\", \"gridcolor\": \"white\", \"gridwidth\": 2, \"linecolor\": \"white\", \"showbackground\": true, \"ticks\": \"\", \"zerolinecolor\": \"white\"}}, \"shapedefaults\": {\"line\": {\"color\": \"#2a3f5f\"}}, \"ternary\": {\"aaxis\": {\"gridcolor\": \"white\", \"linecolor\": \"white\", \"ticks\": \"\"}, \"baxis\": {\"gridcolor\": \"white\", \"linecolor\": \"white\", \"ticks\": \"\"}, \"bgcolor\": \"#E5ECF6\", \"caxis\": {\"gridcolor\": \"white\", \"linecolor\": \"white\", \"ticks\": \"\"}}, \"title\": {\"x\": 0.05}, \"xaxis\": {\"automargin\": true, \"gridcolor\": \"white\", \"linecolor\": \"white\", \"ticks\": \"\", \"title\": {\"standoff\": 15}, \"zerolinecolor\": \"white\", \"zerolinewidth\": 2}, \"yaxis\": {\"automargin\": true, \"gridcolor\": \"white\", \"linecolor\": \"white\", \"ticks\": \"\", \"title\": {\"standoff\": 15}, \"zerolinecolor\": \"white\", \"zerolinewidth\": 2}}}, \"xaxis\": {\"anchor\": \"y\", \"domain\": [0.0, 1.0], \"title\": {\"text\": \"index\"}}, \"yaxis\": {\"anchor\": \"x\", \"domain\": [0.0, 1.0], \"title\": {\"text\": \"production\"}}},                        {\"responsive\": true}                    ).then(function(){\n",
       "                            \n",
       "var gd = document.getElementById('59472a1e-4e8a-4ce3-9909-a167b93b6865');\n",
       "var x = new MutationObserver(function (mutations, observer) {{\n",
       "        var display = window.getComputedStyle(gd).display;\n",
       "        if (!display || display === 'none') {{\n",
       "            console.log([gd, 'removed!']);\n",
       "            Plotly.purge(gd);\n",
       "            observer.disconnect();\n",
       "        }}\n",
       "}});\n",
       "\n",
       "// Listen for the removal of the full notebook cells\n",
       "var notebookContainer = gd.closest('#notebook-container');\n",
       "if (notebookContainer) {{\n",
       "    x.observe(notebookContainer, {childList: true});\n",
       "}}\n",
       "\n",
       "// Listen for the clearing of the current output cell\n",
       "var outputEl = gd.closest('.output');\n",
       "if (outputEl) {{\n",
       "    x.observe(outputEl, {childList: true});\n",
       "}}\n",
       "\n",
       "                        })                };                });            </script>        </div>"
      ]
     },
     "metadata": {},
     "output_type": "display_data"
    }
   ],
   "source": [
    "plx.line(db, y='production')"
   ]
  },
  {
   "cell_type": "code",
   "execution_count": 60,
   "metadata": {
    "ExecuteTime": {
     "end_time": "2021-11-14T18:56:05.707374Z",
     "start_time": "2021-11-14T18:56:05.697121Z"
    }
   },
   "outputs": [],
   "source": [
    "db_forecast = db.set_index('month') #.to_period('M')"
   ]
  },
  {
   "cell_type": "code",
   "execution_count": 61,
   "metadata": {
    "ExecuteTime": {
     "end_time": "2021-11-14T18:56:05.826665Z",
     "start_time": "2021-11-14T18:56:05.717532Z"
    }
   },
   "outputs": [
    {
     "data": {
      "text/html": [
       "<div>\n",
       "<style scoped>\n",
       "    .dataframe tbody tr th:only-of-type {\n",
       "        vertical-align: middle;\n",
       "    }\n",
       "\n",
       "    .dataframe tbody tr th {\n",
       "        vertical-align: top;\n",
       "    }\n",
       "\n",
       "    .dataframe thead th {\n",
       "        text-align: right;\n",
       "    }\n",
       "</style>\n",
       "<table border=\"1\" class=\"dataframe\">\n",
       "  <thead>\n",
       "    <tr style=\"text-align: right;\">\n",
       "      <th></th>\n",
       "      <th>production</th>\n",
       "    </tr>\n",
       "    <tr>\n",
       "      <th>month</th>\n",
       "      <th></th>\n",
       "    </tr>\n",
       "  </thead>\n",
       "  <tbody>\n",
       "    <tr>\n",
       "      <th>1956-01-01</th>\n",
       "      <td>93.2</td>\n",
       "    </tr>\n",
       "    <tr>\n",
       "      <th>1956-02-01</th>\n",
       "      <td>96.0</td>\n",
       "    </tr>\n",
       "    <tr>\n",
       "      <th>1956-03-01</th>\n",
       "      <td>95.2</td>\n",
       "    </tr>\n",
       "    <tr>\n",
       "      <th>1956-04-01</th>\n",
       "      <td>77.1</td>\n",
       "    </tr>\n",
       "    <tr>\n",
       "      <th>1956-05-01</th>\n",
       "      <td>70.9</td>\n",
       "    </tr>\n",
       "    <tr>\n",
       "      <th>...</th>\n",
       "      <td>...</td>\n",
       "    </tr>\n",
       "    <tr>\n",
       "      <th>1995-04-01</th>\n",
       "      <td>127.0</td>\n",
       "    </tr>\n",
       "    <tr>\n",
       "      <th>1995-05-01</th>\n",
       "      <td>151.0</td>\n",
       "    </tr>\n",
       "    <tr>\n",
       "      <th>1995-06-01</th>\n",
       "      <td>130.0</td>\n",
       "    </tr>\n",
       "    <tr>\n",
       "      <th>1995-07-01</th>\n",
       "      <td>119.0</td>\n",
       "    </tr>\n",
       "    <tr>\n",
       "      <th>1995-08-01</th>\n",
       "      <td>153.0</td>\n",
       "    </tr>\n",
       "  </tbody>\n",
       "</table>\n",
       "<p>476 rows × 1 columns</p>\n",
       "</div>"
      ],
      "text/plain": [
       "            production\n",
       "month                 \n",
       "1956-01-01        93.2\n",
       "1956-02-01        96.0\n",
       "1956-03-01        95.2\n",
       "1956-04-01        77.1\n",
       "1956-05-01        70.9\n",
       "...                ...\n",
       "1995-04-01       127.0\n",
       "1995-05-01       151.0\n",
       "1995-06-01       130.0\n",
       "1995-07-01       119.0\n",
       "1995-08-01       153.0\n",
       "\n",
       "[476 rows x 1 columns]"
      ]
     },
     "execution_count": 61,
     "metadata": {},
     "output_type": "execute_result"
    }
   ],
   "source": [
    "db_forecast"
   ]
  },
  {
   "cell_type": "code",
   "execution_count": 62,
   "metadata": {
    "ExecuteTime": {
     "end_time": "2021-11-14T18:56:05.910073Z",
     "start_time": "2021-11-14T18:56:05.838092Z"
    }
   },
   "outputs": [],
   "source": [
    "# # checking seasonality\n",
    "# from statsmodels.tsa.seasonal import seasonal_decompose\n",
    "\n",
    "# resultado = seasonal_decompose(db_forecast, freq='m')\n",
    "\n",
    "# fig = plt.figure(figsize=(8, 6))  \n",
    "# fig = resultado.plot()"
   ]
  },
  {
   "cell_type": "code",
   "execution_count": 63,
   "metadata": {
    "ExecuteTime": {
     "end_time": "2021-11-14T18:56:06.076154Z",
     "start_time": "2021-11-14T18:56:05.919823Z"
    }
   },
   "outputs": [
    {
     "name": "stdout",
     "output_type": "stream",
     "text": [
      "Teste ADF:-2.282661418787566\n",
      "p-valor:0.17762099829132877\n"
     ]
    }
   ],
   "source": [
    "# Teste de estacionariedade. \n",
    "# p-value < 0,05 = estacionária\n",
    "# p-value > 0,05 = não estacionária\n",
    "\n",
    "from statsmodels.tsa.stattools import adfuller\n",
    "\n",
    "result=adfuller(db_forecast['production'].dropna())\n",
    "\n",
    "print(f'Teste ADF:{result[0]}')\n",
    "print(f'p-valor:{result[1]}')"
   ]
  },
  {
   "cell_type": "markdown",
   "metadata": {},
   "source": [
    "## arima"
   ]
  },
  {
   "cell_type": "markdown",
   "metadata": {},
   "source": [
    "### in sample forecast"
   ]
  },
  {
   "cell_type": "code",
   "execution_count": 64,
   "metadata": {
    "ExecuteTime": {
     "end_time": "2021-11-14T18:57:55.559521Z",
     "start_time": "2021-11-14T18:56:06.091554Z"
    }
   },
   "outputs": [
    {
     "name": "stdout",
     "output_type": "stream",
     "text": [
      "Performing stepwise search to minimize aic\n",
      " ARIMA(1,1,1)(1,1,1)[6]             : AIC=3667.083, Time=2.51 sec\n",
      " ARIMA(0,1,0)(0,1,0)[6]             : AIC=4549.066, Time=0.03 sec\n",
      " ARIMA(1,1,0)(1,1,0)[6]             : AIC=3909.258, Time=0.37 sec\n",
      " ARIMA(0,1,1)(0,1,1)[6]             : AIC=inf, Time=0.91 sec\n",
      " ARIMA(1,1,1)(0,1,1)[6]             : AIC=inf, Time=1.55 sec\n",
      " ARIMA(1,1,1)(1,1,0)[6]             : AIC=3687.775, Time=2.20 sec\n",
      " ARIMA(1,1,1)(2,1,1)[6]             : AIC=inf, Time=4.26 sec\n",
      " ARIMA(1,1,1)(1,1,2)[6]             : AIC=3536.571, Time=4.51 sec\n",
      " ARIMA(1,1,1)(0,1,2)[6]             : AIC=3958.026, Time=4.29 sec\n",
      " ARIMA(1,1,1)(2,1,2)[6]             : AIC=3521.625, Time=5.84 sec\n",
      " ARIMA(0,1,1)(2,1,2)[6]             : AIC=inf, Time=5.89 sec\n",
      " ARIMA(1,1,0)(2,1,2)[6]             : AIC=inf, Time=5.03 sec\n",
      " ARIMA(2,1,1)(2,1,2)[6]             : AIC=3509.219, Time=6.38 sec\n",
      " ARIMA(2,1,1)(1,1,2)[6]             : AIC=3518.879, Time=6.54 sec\n",
      " ARIMA(2,1,1)(2,1,1)[6]             : AIC=inf, Time=6.67 sec\n",
      " ARIMA(2,1,1)(1,1,1)[6]             : AIC=3658.640, Time=2.44 sec\n",
      " ARIMA(2,1,0)(2,1,2)[6]             : AIC=3604.727, Time=4.05 sec\n",
      " ARIMA(3,1,1)(2,1,2)[6]             : AIC=3510.921, Time=7.58 sec\n",
      " ARIMA(2,1,2)(2,1,2)[6]             : AIC=inf, Time=7.93 sec\n",
      " ARIMA(1,1,2)(2,1,2)[6]             : AIC=inf, Time=7.21 sec\n",
      " ARIMA(3,1,0)(2,1,2)[6]             : AIC=3593.874, Time=7.12 sec\n",
      " ARIMA(3,1,2)(2,1,2)[6]             : AIC=inf, Time=8.40 sec\n",
      " ARIMA(2,1,1)(2,1,2)[6] intercept   : AIC=inf, Time=7.63 sec\n",
      "\n",
      "Best model:  ARIMA(2,1,1)(2,1,2)[6]          \n",
      "Total fit time: 109.385 seconds\n"
     ]
    }
   ],
   "source": [
    "# Auto ARIMA nos ajuda a buscar os melhores parâmetros\n",
    "fit_arima = auto_arima(db_forecast['production'], d=1, start_p=1, start_q=1, max_p=3, max_q=3,\n",
    "                       seasonal=True,\n",
    "                       m=6, D=1, start_P=1, start_Q=1, max_P=2, max_Q=2, information_criterion='aic',\n",
    "                       trace=True, error_action='ignore', stepwise=True)"
   ]
  },
  {
   "cell_type": "code",
   "execution_count": 65,
   "metadata": {
    "ExecuteTime": {
     "end_time": "2021-11-14T18:58:02.632765Z",
     "start_time": "2021-11-14T18:57:55.573430Z"
    }
   },
   "outputs": [
    {
     "name": "stderr",
     "output_type": "stream",
     "text": [
      "/home/alysson/.local/lib/python3.6/site-packages/statsmodels/tsa/base/tsa_model.py:527: ValueWarning:\n",
      "\n",
      "No frequency information was provided, so inferred frequency MS will be used.\n",
      "\n",
      "/home/alysson/.local/lib/python3.6/site-packages/statsmodels/tsa/base/tsa_model.py:527: ValueWarning:\n",
      "\n",
      "No frequency information was provided, so inferred frequency MS will be used.\n",
      "\n",
      "/home/alysson/.local/lib/python3.6/site-packages/statsmodels/base/model.py:568: ConvergenceWarning:\n",
      "\n",
      "Maximum Likelihood optimization failed to converge. Check mle_retvals\n",
      "\n"
     ]
    }
   ],
   "source": [
    "from statsmodels.tsa.statespace.sarimax import SARIMAX\n",
    "\n",
    "model = SARIMAX(db_forecast['production'], order=(2,1,1),  seasonal_order=(2, 1, 2, 6))\n",
    "resultado_sarimax = model.fit()"
   ]
  },
  {
   "cell_type": "code",
   "execution_count": 66,
   "metadata": {
    "ExecuteTime": {
     "end_time": "2021-11-14T18:58:02.681814Z",
     "start_time": "2021-11-14T18:58:02.654656Z"
    }
   },
   "outputs": [],
   "source": [
    "# Vamos realizar um \"backtesting\" com predições de valores dos 12 meses anteriores\n",
    "\n",
    "predicoes = resultado_sarimax.get_prediction(start=-12)\n",
    "predicao_media = predicoes.predicted_mean"
   ]
  },
  {
   "cell_type": "code",
   "execution_count": 67,
   "metadata": {
    "ExecuteTime": {
     "end_time": "2021-11-14T18:58:02.879813Z",
     "start_time": "2021-11-14T18:58:02.696100Z"
    }
   },
   "outputs": [
    {
     "data": {
      "text/plain": [
       "1994-09-01    136.677771\n",
       "1994-10-01    158.846303\n",
       "1994-11-01    174.903606\n",
       "1994-12-01    184.359553\n",
       "1995-01-01    145.249213\n",
       "1995-02-01    139.732133\n",
       "1995-03-01    155.854414\n",
       "1995-04-01    137.478277\n",
       "1995-05-01    134.990488\n",
       "1995-06-01    121.401627\n",
       "1995-07-01    128.274735\n",
       "1995-08-01    138.636180\n",
       "Freq: MS, Name: predicted_mean, dtype: float64"
      ]
     },
     "execution_count": 67,
     "metadata": {},
     "output_type": "execute_result"
    }
   ],
   "source": [
    "predicao_media"
   ]
  },
  {
   "cell_type": "code",
   "execution_count": 68,
   "metadata": {
    "ExecuteTime": {
     "end_time": "2021-11-14T18:58:02.993609Z",
     "start_time": "2021-11-14T18:58:02.887521Z"
    }
   },
   "outputs": [
    {
     "data": {
      "text/plain": [
       "(117.71130263373769, 155.64423910097756)"
      ]
     },
     "execution_count": 68,
     "metadata": {},
     "output_type": "execute_result"
    }
   ],
   "source": [
    "# intervalo de confiança\n",
    "\n",
    "intervalo_confianca = predicoes.conf_int()\n",
    "limites_abaixo = intervalo_confianca.iloc[:,0]\n",
    "limites_acima = intervalo_confianca.iloc[:,1]\n",
    "\n",
    "limites_abaixo[0], limites_acima[0]"
   ]
  },
  {
   "cell_type": "code",
   "execution_count": 69,
   "metadata": {
    "ExecuteTime": {
     "end_time": "2021-11-14T18:58:03.094607Z",
     "start_time": "2021-11-14T18:58:03.000850Z"
    }
   },
   "outputs": [],
   "source": [
    "# datas_previsao = np.asarray(predicao_media.index.astype(str))\n",
    "# datas = np.asarray(db_forecast.index.astype(str))\n",
    "\n",
    "datas_previsao = np.asarray(predicao_media.index)\n",
    "datas = np.asarray(db_forecast.index)"
   ]
  },
  {
   "cell_type": "code",
   "execution_count": 72,
   "metadata": {
    "ExecuteTime": {
     "end_time": "2021-11-14T18:59:22.141583Z",
     "start_time": "2021-11-14T18:59:21.399972Z"
    }
   },
   "outputs": [
    {
     "data": {
      "image/png": "[encoded data removed]",
      "text/plain": [
       "<Figure size 1800x720 with 1 Axes>"
      ]
     },
     "metadata": {
      "needs_background": "light"
     },
     "output_type": "display_data"
    }
   ],
   "source": [
    "plt.figure(figsize=(25, 10))\n",
    "# plt.fill_between(datas_previsao, limites_abaixo, limites_acima, color='red')\n",
    "plt.plot(datas_previsao, predicao_media.values, color='red', label='prediction')\n",
    "plt.plot(datas, db_forecast.values, label='real')\n",
    "plt.legend()\n",
    "plt.show()\n",
    "\n",
    "\n",
    "# plt.plot(row.index, row.values)\n",
    "# plt.show()"
   ]
  },
  {
   "cell_type": "code",
   "execution_count": 73,
   "metadata": {
    "ExecuteTime": {
     "end_time": "2021-11-14T18:59:22.175514Z",
     "start_time": "2021-11-14T18:59:22.145807Z"
    }
   },
   "outputs": [
    {
     "name": "stdout",
     "output_type": "stream",
     "text": [
      "9.523993597682383\n"
     ]
    }
   ],
   "source": [
    "from sklearn.metrics import mean_squared_error\n",
    "from math import sqrt\n",
    "\n",
    "rmse_sarima = sqrt(mean_squared_error(db_forecast[-12:].values, predicao_media.values))\n",
    "print(rmse_sarima)"
   ]
  },
  {
   "cell_type": "markdown",
   "metadata": {},
   "source": [
    "### out of sample forecast"
   ]
  },
  {
   "cell_type": "code",
   "execution_count": 74,
   "metadata": {
    "ExecuteTime": {
     "end_time": "2021-11-14T18:59:22.312088Z",
     "start_time": "2021-11-14T18:59:22.184903Z"
    }
   },
   "outputs": [],
   "source": [
    "# Forecast pra 12 values\n",
    "\n",
    "forecast = resultado_sarimax.get_forecast(steps=12)\n",
    "forecast_medio = forecast.predicted_mean"
   ]
  },
  {
   "cell_type": "code",
   "execution_count": 75,
   "metadata": {
    "ExecuteTime": {
     "end_time": "2021-11-14T18:59:22.408090Z",
     "start_time": "2021-11-14T18:59:22.319526Z"
    }
   },
   "outputs": [
    {
     "data": {
      "text/plain": [
       "1995-09-01    136.926105\n",
       "1995-10-01    159.999101\n",
       "1995-11-01    182.848627\n",
       "1995-12-01    186.112955\n",
       "1996-01-01    144.158977\n",
       "1996-02-01    139.080823\n",
       "1996-03-01    153.234190\n",
       "1996-04-01    136.475177\n",
       "1996-05-01    136.744692\n",
       "1996-06-01    125.134626\n",
       "1996-07-01    131.296406\n",
       "1996-08-01    141.727532\n",
       "Freq: MS, Name: predicted_mean, dtype: float64"
      ]
     },
     "execution_count": 75,
     "metadata": {},
     "output_type": "execute_result"
    }
   ],
   "source": [
    "forecast_medio"
   ]
  },
  {
   "cell_type": "code",
   "execution_count": 76,
   "metadata": {
    "ExecuteTime": {
     "end_time": "2021-11-14T18:59:22.508884Z",
     "start_time": "2021-11-14T18:59:22.414625Z"
    }
   },
   "outputs": [
    {
     "data": {
      "text/plain": [
       "(110.90042258195653, 151.69239000488818)"
      ]
     },
     "execution_count": 76,
     "metadata": {},
     "output_type": "execute_result"
    }
   ],
   "source": [
    "intervalo_confianca_forecast = forecast.conf_int()\n",
    "intervalo_abaixo_f = intervalo_confianca_forecast.iloc[:,0]\n",
    "intervalo_acima_f = intervalo_confianca_forecast.iloc[:,1]\n",
    "\n",
    "intervalo_abaixo_f[10], intervalo_acima_f[10]"
   ]
  },
  {
   "cell_type": "code",
   "execution_count": 81,
   "metadata": {
    "ExecuteTime": {
     "end_time": "2021-11-14T19:00:06.502789Z",
     "start_time": "2021-11-14T19:00:06.493444Z"
    }
   },
   "outputs": [],
   "source": [
    "datas_forecast = np.asarray(forecast_medio.index) #.map(str))\n",
    "pred_dates = np.asarray(predicao_media.index) #.map(str))\n",
    "\n",
    "# df.index = df.index.map(str)"
   ]
  },
  {
   "cell_type": "code",
   "execution_count": 84,
   "metadata": {
    "ExecuteTime": {
     "end_time": "2021-11-14T19:00:40.900472Z",
     "start_time": "2021-11-14T19:00:40.364820Z"
    },
    "scrolled": false
   },
   "outputs": [
    {
     "data": {
      "image/png": "[encoded data removed]",
      "text/plain": [
       "<Figure size 1800x720 with 1 Axes>"
      ]
     },
     "metadata": {
      "needs_background": "light"
     },
     "output_type": "display_data"
    }
   ],
   "source": [
    "dates = np.asarray(db_forecast.index) #.map(str))\n",
    "\n",
    "plt.figure(figsize=(25,10))\n",
    "plt.plot(datas_forecast, forecast_medio.values, color='green', label='forecast')\n",
    "plt.fill_between(datas_forecast, intervalo_abaixo_f, intervalo_acima_f, color='lightgreen')\n",
    "\n",
    "plt.plot(pred_dates, predicao_media.values, color='red', label='prediction')\n",
    "plt.fill_between(datas_previsao, limites_abaixo, limites_acima, color='pink')\n",
    "\n",
    "plt.plot(dates, db_forecast.values, label='real')\n",
    "plt.legend(loc='upper left')\n",
    "plt.show()"
   ]
  }
 ],
 "metadata": {
  "kernelspec": {
   "display_name": "Python 3",
   "language": "python",
   "name": "python3"
  },
  "language_info": {
   "codemirror_mode": {
    "name": "ipython",
    "version": 3
   },
   "file_extension": ".py",
   "mimetype": "text/x-python",
   "name": "python",
   "nbconvert_exporter": "python",
   "pygments_lexer": "ipython3",
   "version": "3.6.9"
  },
  "toc": {
   "base_numbering": 1,
   "nav_menu": {},
   "number_sections": true,
   "sideBar": true,
   "skip_h1_title": false,
   "title_cell": "Table of Contents",
   "title_sidebar": "Contents",
   "toc_cell": false,
   "toc_position": {},
   "toc_section_display": true,
   "toc_window_display": true
  }
 },
 "nbformat": 4,
 "nbformat_minor": 4
}
